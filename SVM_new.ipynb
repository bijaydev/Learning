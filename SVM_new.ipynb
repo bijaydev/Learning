{
  "nbformat": 4,
  "nbformat_minor": 0,
  "metadata": {
    "colab": {
      "name": "SVM_new.ipynb",
      "version": "0.3.2",
      "provenance": [],
      "collapsed_sections": []
    },
    "kernelspec": {
      "name": "python3",
      "display_name": "Python 3"
    }
  },
  "cells": [
    {
      "cell_type": "code",
      "metadata": {
        "id": "FWDjMPKfyZse",
        "colab_type": "code",
        "outputId": "638f964d-3e79-43d6-e3e6-503a4db07159",
        "colab": {
          "base_uri": "https://localhost:8080/",
          "height": 68
        }
      },
      "source": [
        "!curl -o breast_cancer.data https://archive.ics.uci.edu/ml/machine-learning-databases/breast-cancer-wisconsin/breast-cancer-wisconsin.data"
      ],
      "execution_count": 0,
      "outputs": [
        {
          "output_type": "stream",
          "text": [
            "  % Total    % Received % Xferd  Average Speed   Time    Time     Time  Current\n",
            "                                 Dload  Upload   Total   Spent    Left  Speed\n",
            "\r  0     0    0     0    0     0      0      0 --:--:-- --:--:-- --:--:--     0\r 82 19889   82 16384    0     0  36008      0 --:--:-- --:--:-- --:--:-- 36008\r100 19889  100 19889    0     0  43712      0 --:--:-- --:--:-- --:--:-- 43616\n"
          ],
          "name": "stdout"
        }
      ]
    },
    {
      "cell_type": "code",
      "metadata": {
        "id": "rbli047HAPb-",
        "colab_type": "code",
        "outputId": "de33a9ad-2d1e-4edf-d84f-6a2e20c76fb4",
        "colab": {
          "base_uri": "https://localhost:8080/",
          "height": 34
        }
      },
      "source": [
        "!ls"
      ],
      "execution_count": 0,
      "outputs": [
        {
          "output_type": "stream",
          "text": [
            "breast_cancer.data  sample_data\n"
          ],
          "name": "stdout"
        }
      ]
    },
    {
      "cell_type": "code",
      "metadata": {
        "id": "Vt3urga-AUZg",
        "colab_type": "code",
        "colab": {}
      },
      "source": [
        "import pandas as pd\n",
        "df = pd.read_csv('breast_cancer.data', sep=',', \n",
        "                  names=[\"id\", \"clump_thickness\", \"unif_cell_size\", \"unif_cell_shape\", \"marg_adhesion\", \"single_epith_cell_size\", \"bare_nuclei\", \"bland_chrom\", \"norm_nuclei\" \\\n",
        "                        , \"mitoses\", \"class\"])"
      ],
      "execution_count": 0,
      "outputs": []
    },
    {
      "cell_type": "code",
      "metadata": {
        "id": "jLlx6KHUAVC8",
        "colab_type": "code",
        "colab": {}
      },
      "source": [
        "import numpy as np\n",
        "from sklearn import preprocessing, neighbors, svm\n",
        "from sklearn.model_selection import train_test_split"
      ],
      "execution_count": 0,
      "outputs": []
    },
    {
      "cell_type": "code",
      "metadata": {
        "id": "xuHvb-QmAY1Z",
        "colab_type": "code",
        "colab": {}
      },
      "source": [
        "df.replace('?', -99999, inplace=True)\n",
        "df.drop(['id'], 1, inplace=True)"
      ],
      "execution_count": 0,
      "outputs": []
    },
    {
      "cell_type": "code",
      "metadata": {
        "id": "rH8dFw_LAc-o",
        "colab_type": "code",
        "colab": {}
      },
      "source": [
        "X = np.array(df.drop(['class'], 1))\n",
        "y = np.array(df['class'])"
      ],
      "execution_count": 0,
      "outputs": []
    },
    {
      "cell_type": "code",
      "metadata": {
        "id": "pjK8RRIFAf8b",
        "colab_type": "code",
        "colab": {}
      },
      "source": [
        "X_train, X_test, y_train, y_test = train_test_split(X, y, test_size= 0.2)"
      ],
      "execution_count": 0,
      "outputs": []
    },
    {
      "cell_type": "code",
      "metadata": {
        "id": "tNEmwPepAiWb",
        "colab_type": "code",
        "colab": {}
      },
      "source": [
        "clf = svm.SVC()"
      ],
      "execution_count": 0,
      "outputs": []
    },
    {
      "cell_type": "code",
      "metadata": {
        "id": "QvWqxK6PAkcG",
        "colab_type": "code",
        "outputId": "74260475-b081-4111-b498-0e747b5338f5",
        "colab": {
          "base_uri": "https://localhost:8080/",
          "height": 88
        }
      },
      "source": [
        "clf.fit(X_train, y_train)\n",
        "accuracy = clf.score(X_test, y_test)\n",
        "print(accuracy)"
      ],
      "execution_count": 0,
      "outputs": [
        {
          "output_type": "stream",
          "text": [
            "0.9785714285714285\n"
          ],
          "name": "stdout"
        },
        {
          "output_type": "stream",
          "text": [
            "/usr/local/lib/python3.6/dist-packages/sklearn/svm/base.py:193: FutureWarning: The default value of gamma will change from 'auto' to 'scale' in version 0.22 to account better for unscaled features. Set gamma explicitly to 'auto' or 'scale' to avoid this warning.\n",
            "  \"avoid this warning.\", FutureWarning)\n"
          ],
          "name": "stderr"
        }
      ]
    },
    {
      "cell_type": "code",
      "metadata": {
        "id": "c4va7xeAAmx8",
        "colab_type": "code",
        "outputId": "babe9f89-ccc3-44cf-a954-c5f931241ba9",
        "colab": {
          "base_uri": "https://localhost:8080/",
          "height": 34
        }
      },
      "source": [
        "example_measures = np.array([[4,2,1,1,1,2,3,2,1], [4,2,1,2,2,2,3,2,1]])\n",
        "example_measures = example_measures.reshape(len(example_measures),-1)\n",
        "prediction = clf.predict(example_measures)\n",
        "print(prediction)"
      ],
      "execution_count": 0,
      "outputs": [
        {
          "output_type": "stream",
          "text": [
            "[2 2]\n"
          ],
          "name": "stdout"
        }
      ]
    },
    {
      "cell_type": "code",
      "metadata": {
        "id": "xibPbdYtAsc1",
        "colab_type": "code",
        "colab": {}
      },
      "source": [
        "import matplotlib.pyplot as plt\n",
        "from matplotlib import style\n",
        "import numpy as np\n",
        "style.use('ggplot')"
      ],
      "execution_count": 0,
      "outputs": []
    },
    {
      "cell_type": "code",
      "metadata": {
        "id": "0T4_3JFxFgPs",
        "colab_type": "code",
        "colab": {}
      },
      "source": [
        "class Support_Vector_Machine:\n",
        "  def __init__(self, visualization=True):\n",
        "    self.visualization = visualization\n",
        "    self.colors = {1:'r', -1:'b'}\n",
        "    if self.visualization:\n",
        "      self.fig = plt.figure()\n",
        "      self.ax = self.fig.add_subplot(1,1,1)\n",
        "  \n",
        "  #train\n",
        "  def fit(self, data):\n",
        "    self.data = data\n",
        "    #{ ||w||: [w,b] }\n",
        "    opt_dict = {}\n",
        "    transforms = [[1,1],\n",
        "                 [1,-1],\n",
        "                 [-1,-1],\n",
        "                 [-1,1]]\n",
        "    all_data = []\n",
        "    for yi in self.data:\n",
        "      for featureset in self.data[yi]:\n",
        "        for feature in featureset:\n",
        "          all_data.append(feature)\n",
        "    \n",
        "    self.max_feature_value = max(all_data)\n",
        "    self.min_feature_value = min(all_data)\n",
        "    all_data = None\n",
        "    \n",
        "    step_sizes = [self.max_feature_value * 0.1,\n",
        "                 self.max_feature_value * 0.01,\n",
        "                 self.max_feature_value * 0.001]\n",
        "    \n",
        "    b_range_multiple = 5\n",
        "    b_multiple = 5\n",
        "    latest_optimum = self.max_feature_value * 10\n",
        "    \n",
        "    for step in step_sizes:\n",
        "      w = np.array([latest_optimum, latest_optimum])\n",
        "      optimized = False\n",
        "      while not optimized:\n",
        "        for b in np.arange(-1*(self.max_feature_value*b_range_multiple),\n",
        "                          self.max_feature_value*b_range_multiple,\n",
        "                          step*b_multiple):\n",
        "          for transformation in transforms:\n",
        "            w_t = w*transformation\n",
        "            found_option = True\n",
        "            for i in self.data:\n",
        "              for xi in self.data[i]:\n",
        "                yi = i\n",
        "                if not yi*(np.dot(w_t,xi)+b) >= 1:\n",
        "                  found_option = False\n",
        "                  \n",
        "            if found_option:\n",
        "              opt_dict[np.linalg.norm(w_t)] = [w_t,b]\n",
        "              \n",
        "        if w[0] < 0:\n",
        "          optimized = True\n",
        "          print('Optimized a step.')\n",
        "        else:\n",
        "          w = w - step\n",
        "          \n",
        "    norms = sorted([n for n in opt_dict])\n",
        "    opt_choice = opt_dict[norms[0]]\n",
        "    \n",
        "    self.w = opt_choice[0]\n",
        "    self.b = opt_choice[1]\n",
        "    latest_optimum = opt_choice[0][0]+step*2\n",
        "                  \n",
        "        \n",
        "        \n",
        " \n",
        "\n",
        "  def predict(self, features):\n",
        "    # sign( x.w+b)\n",
        "    classification = np.sign(np.dot(np.array(features), self.w)+self.b)\n",
        "    if classification !=0 and self.visualization:\n",
        "      self.ax.scatter(feaures[0], features[1], s=200, marker='*', c=self.colors[classification])\n",
        "    return classification\n",
        "  \n",
        "  def visualize(self):\n",
        "    [[self.ax.scatter(x[0], x[1], s=100, color=self.colors[i]) for x in data_dict[i]] for i in data_dict]\n",
        "    \n",
        "    def hyperplane(x,w,b,v):\n",
        "      return (-w[0]*x-b+v) / w[1]\n",
        "  \n",
        "    datarange = (self.min_feature_value*0.9,self.max_feature_value*1.1)\n",
        "    hyp_x_min = datarange[0]\n",
        "    hyp_x_max = datarange[1]\n",
        "  \n",
        "    # w.x + b = 1\n",
        "    # pos sv hyperplane\n",
        "    psv1 = hyperplane(hyp_x_min, self.w, self.b, 1)\n",
        "    psv2 = hyperplane(hyp_x_max, self.w, self.b, 1)\n",
        "    self.ax.plot([hyp_x_min,hyp_x_max], [psv1,psv2], \"k\")\n",
        "  \n",
        "    # w.x + b = -1\n",
        "    # negative sv hyperplane\n",
        "    nsv1 = hyperplane(hyp_x_min, self.w, self.b, -1)\n",
        "    nsv2 = hyperplane(hyp_x_max, self.w, self.b, -1)\n",
        "    self.ax.plot([hyp_x_min,hyp_x_max], [nsv1,nsv2], \"k\")\n",
        "\n",
        "    # w.x + b = 0\n",
        "    # decision\n",
        "    db1 = hyperplane(hyp_x_min, self.w, self.b, 0)\n",
        "    db2 = hyperplane(hyp_x_max, self.w, self.b, 0)\n",
        "    self.ax.plot([hyp_x_min,hyp_x_max], [db1,db2], \"g--\")\n",
        "\n",
        "    plt.show()\n",
        "    \n",
        "      "
      ],
      "execution_count": 0,
      "outputs": []
    },
    {
      "cell_type": "code",
      "metadata": {
        "id": "KQSdWtN8ECrZ",
        "colab_type": "code",
        "colab": {}
      },
      "source": [
        "data_dict = {-1:np.array([[1,7],\n",
        "                        [2,8],\n",
        "                        [3,8]]), \n",
        "            1:np.array([[5,1],\n",
        "                       [6,-1],\n",
        "                       [7,3]])}"
      ],
      "execution_count": 0,
      "outputs": []
    },
    {
      "cell_type": "code",
      "metadata": {
        "id": "JkSSSHuMgxxi",
        "colab_type": "code",
        "outputId": "14c01b11-8d41-4997-9e48-be234a22b777",
        "colab": {
          "base_uri": "https://localhost:8080/"
        }
      },
      "source": [
        "svm = Support_Vector_Machine()\n",
        "svm.fit(data=data_dict)\n",
        "\n",
        "predict_us = [[0,10],\n",
        "              [1,3],\n",
        "              [3,4],\n",
        "              [3,5],\n",
        "              [5,5],\n",
        "              [5,6],\n",
        "              [6,-5],\n",
        "              [5,8]]\n",
        "\n",
        "for p in predict_us:\n",
        "    svm.predict(p)\n",
        "\n",
        "svm.visualize()"
      ],
      "execution_count": 0,
      "outputs": [
        {
          "output_type": "stream",
          "text": [
            "Optimized a step.\n",
            "Optimized a step.\n",
            "Optimized a step.\n"
          ],
          "name": "stdout"
        },
        {
          "output_type": "error",
          "ename": "NameError",
          "evalue": "ignored",
          "traceback": [
            "\u001b[0;31m---------------------------------------------------------------------------\u001b[0m",
            "\u001b[0;31mNameError\u001b[0m                                 Traceback (most recent call last)",
            "\u001b[0;32m<ipython-input-28-3078e0eaaf78>\u001b[0m in \u001b[0;36m<module>\u001b[0;34m()\u001b[0m\n\u001b[1;32m     12\u001b[0m \u001b[0;34m\u001b[0m\u001b[0m\n\u001b[1;32m     13\u001b[0m \u001b[0;32mfor\u001b[0m \u001b[0mp\u001b[0m \u001b[0;32min\u001b[0m \u001b[0mpredict_us\u001b[0m\u001b[0;34m:\u001b[0m\u001b[0;34m\u001b[0m\u001b[0;34m\u001b[0m\u001b[0m\n\u001b[0;32m---> 14\u001b[0;31m     \u001b[0msvm\u001b[0m\u001b[0;34m.\u001b[0m\u001b[0mpredict\u001b[0m\u001b[0;34m(\u001b[0m\u001b[0mp\u001b[0m\u001b[0;34m)\u001b[0m\u001b[0;34m\u001b[0m\u001b[0;34m\u001b[0m\u001b[0m\n\u001b[0m\u001b[1;32m     15\u001b[0m \u001b[0;34m\u001b[0m\u001b[0m\n\u001b[1;32m     16\u001b[0m \u001b[0msvm\u001b[0m\u001b[0;34m.\u001b[0m\u001b[0mvisualize\u001b[0m\u001b[0;34m(\u001b[0m\u001b[0;34m)\u001b[0m\u001b[0;34m\u001b[0m\u001b[0;34m\u001b[0m\u001b[0m\n",
            "\u001b[0;32m<ipython-input-26-34c7665c7755>\u001b[0m in \u001b[0;36mpredict\u001b[0;34m(self, features)\u001b[0m\n\u001b[1;32m     74\u001b[0m     \u001b[0mclassification\u001b[0m \u001b[0;34m=\u001b[0m \u001b[0mnp\u001b[0m\u001b[0;34m.\u001b[0m\u001b[0msign\u001b[0m\u001b[0;34m(\u001b[0m\u001b[0mnp\u001b[0m\u001b[0;34m.\u001b[0m\u001b[0mdot\u001b[0m\u001b[0;34m(\u001b[0m\u001b[0mnp\u001b[0m\u001b[0;34m.\u001b[0m\u001b[0marray\u001b[0m\u001b[0;34m(\u001b[0m\u001b[0mfeatures\u001b[0m\u001b[0;34m)\u001b[0m\u001b[0;34m,\u001b[0m \u001b[0mself\u001b[0m\u001b[0;34m.\u001b[0m\u001b[0mw\u001b[0m\u001b[0;34m)\u001b[0m\u001b[0;34m+\u001b[0m\u001b[0mself\u001b[0m\u001b[0;34m.\u001b[0m\u001b[0mb\u001b[0m\u001b[0;34m)\u001b[0m\u001b[0;34m\u001b[0m\u001b[0;34m\u001b[0m\u001b[0m\n\u001b[1;32m     75\u001b[0m     \u001b[0;32mif\u001b[0m \u001b[0mclassification\u001b[0m \u001b[0;34m!=\u001b[0m\u001b[0;36m0\u001b[0m \u001b[0;32mand\u001b[0m \u001b[0mself\u001b[0m\u001b[0;34m.\u001b[0m\u001b[0mvisualization\u001b[0m\u001b[0;34m:\u001b[0m\u001b[0;34m\u001b[0m\u001b[0;34m\u001b[0m\u001b[0m\n\u001b[0;32m---> 76\u001b[0;31m       \u001b[0mself\u001b[0m\u001b[0;34m.\u001b[0m\u001b[0max\u001b[0m\u001b[0;34m.\u001b[0m\u001b[0mscatter\u001b[0m\u001b[0;34m(\u001b[0m\u001b[0mfeaures\u001b[0m\u001b[0;34m[\u001b[0m\u001b[0;36m0\u001b[0m\u001b[0;34m]\u001b[0m\u001b[0;34m,\u001b[0m \u001b[0mfeatures\u001b[0m\u001b[0;34m[\u001b[0m\u001b[0;36m1\u001b[0m\u001b[0;34m]\u001b[0m\u001b[0;34m,\u001b[0m \u001b[0ms\u001b[0m\u001b[0;34m=\u001b[0m\u001b[0;36m200\u001b[0m\u001b[0;34m,\u001b[0m \u001b[0mmarker\u001b[0m\u001b[0;34m=\u001b[0m\u001b[0;34m'*'\u001b[0m\u001b[0;34m,\u001b[0m \u001b[0mc\u001b[0m\u001b[0;34m=\u001b[0m\u001b[0mself\u001b[0m\u001b[0;34m.\u001b[0m\u001b[0mcolors\u001b[0m\u001b[0;34m[\u001b[0m\u001b[0mclassification\u001b[0m\u001b[0;34m]\u001b[0m\u001b[0;34m)\u001b[0m\u001b[0;34m\u001b[0m\u001b[0;34m\u001b[0m\u001b[0m\n\u001b[0m\u001b[1;32m     77\u001b[0m     \u001b[0;32mreturn\u001b[0m \u001b[0mclassification\u001b[0m\u001b[0;34m\u001b[0m\u001b[0;34m\u001b[0m\u001b[0m\n\u001b[1;32m     78\u001b[0m \u001b[0;34m\u001b[0m\u001b[0m\n",
            "\u001b[0;31mNameError\u001b[0m: name 'feaures' is not defined"
          ]
        },
        {
          "output_type": "display_data",
          "data": {
            "image/png": "[encoded data removed]",
            "text/plain": [
              "<Figure size 432x288 with 1 Axes>"
            ]
          },
          "metadata": {
            "tags": []
          }
        }
      ]
    },
    {
      "cell_type": "code",
      "metadata": {
        "id": "pI_OKDVDhmIf",
        "colab_type": "code",
        "colab": {}
      },
      "source": [
        ""
      ],
      "execution_count": 0,
      "outputs": []
    }
  ]
}