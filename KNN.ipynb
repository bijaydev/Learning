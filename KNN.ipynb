{
  "nbformat": 4,
  "nbformat_minor": 0,
  "metadata": {
    "colab": {
      "name": "KNN.ipynb",
      "version": "0.3.2",
      "provenance": [],
      "collapsed_sections": []
    },
    "kernelspec": {
      "name": "python3",
      "display_name": "Python 3"
    }
  },
  "cells": [
    {
      "cell_type": "code",
      "metadata": {
        "id": "6PDyzN9EmN5e",
        "colab_type": "code",
        "outputId": "3a005268-df4f-411a-cf34-01469b5b27d6",
        "colab": {
          "base_uri": "https://localhost:8080/",
          "height": 68
        }
      },
      "source": [
        "!curl -o breast_cancer.data https://archive.ics.uci.edu/ml/machine-learning-databases/breast-cancer-wisconsin/breast-cancer-wisconsin.data"
      ],
      "execution_count": 1,
      "outputs": [
        {
          "output_type": "stream",
          "text": [
            "  % Total    % Received % Xferd  Average Speed   Time    Time     Time  Current\n",
            "                                 Dload  Upload   Total   Spent    Left  Speed\n",
            "\r  0     0    0     0    0     0      0      0 --:--:-- --:--:-- --:--:--     0\r100 19889  100 19889    0     0  96082      0 --:--:-- --:--:-- --:--:-- 96082\n"
          ],
          "name": "stdout"
        }
      ]
    },
    {
      "cell_type": "code",
      "metadata": {
        "id": "1pYyrSNsms-H",
        "colab_type": "code",
        "outputId": "9ce657ae-c8fa-4ad2-c9b1-2be7b46759b1",
        "colab": {
          "base_uri": "https://localhost:8080/",
          "height": 34
        }
      },
      "source": [
        "!ls"
      ],
      "execution_count": 2,
      "outputs": [
        {
          "output_type": "stream",
          "text": [
            "breast_cancer.data  sample_data\n"
          ],
          "name": "stdout"
        }
      ]
    },
    {
      "cell_type": "code",
      "metadata": {
        "id": "e_g_fBl2m3OI",
        "colab_type": "code",
        "colab": {}
      },
      "source": [
        "import pandas as pd\n",
        "df = pd.read_csv('breast_cancer.data', sep=',', \n",
        "                  names=[\"id\", \"clump_thickness\", \"unif_cell_size\", \"unif_cell_shape\", \"marg_adhesion\", \"single_epith_cell_size\", \"bare_nuclei\", \"bland_chrom\", \"norm_nuclei\" \\\n",
        "                        , \"mitoses\", \"class\"])"
      ],
      "execution_count": 0,
      "outputs": []
    },
    {
      "cell_type": "code",
      "metadata": {
        "id": "vmommYienwOD",
        "colab_type": "code",
        "outputId": "977bb752-9ace-411d-ca1e-41bd8655a855",
        "colab": {
          "base_uri": "https://localhost:8080/",
          "height": 153
        }
      },
      "source": [
        "print(df.head())"
      ],
      "execution_count": 4,
      "outputs": [
        {
          "output_type": "stream",
          "text": [
            "        id  clump_thickness  unif_cell_size  ...  norm_nuclei  mitoses  class\n",
            "0  1000025                5               1  ...            1        1      2\n",
            "1  1002945                5               4  ...            2        1      2\n",
            "2  1015425                3               1  ...            1        1      2\n",
            "3  1016277                6               8  ...            7        1      2\n",
            "4  1017023                4               1  ...            1        1      2\n",
            "\n",
            "[5 rows x 11 columns]\n"
          ],
          "name": "stdout"
        }
      ]
    },
    {
      "cell_type": "code",
      "metadata": {
        "id": "8ZX8hJ4On7Iw",
        "colab_type": "code",
        "colab": {}
      },
      "source": [
        "import numpy as np\n",
        "from sklearn import preprocessing, neighbors\n",
        "from sklearn.model_selection import train_test_split"
      ],
      "execution_count": 0,
      "outputs": []
    },
    {
      "cell_type": "code",
      "metadata": {
        "id": "ZRN-EyOGqfM6",
        "colab_type": "code",
        "colab": {}
      },
      "source": [
        "df.replace('?', -99999, inplace=True)\n",
        "df.drop(['id'], 1, inplace=True)"
      ],
      "execution_count": 0,
      "outputs": []
    },
    {
      "cell_type": "code",
      "metadata": {
        "id": "nHu7CGSQrpRS",
        "colab_type": "code",
        "colab": {}
      },
      "source": [
        "X = np.array(df.drop(['class'], 1))\n",
        "y = np.array(df['class'])"
      ],
      "execution_count": 0,
      "outputs": []
    },
    {
      "cell_type": "code",
      "metadata": {
        "id": "WOhor9PVr0yK",
        "colab_type": "code",
        "colab": {}
      },
      "source": [
        "X_train, X_test, y_train, y_test = train_test_split(X, y, test_size= 0.2)"
      ],
      "execution_count": 0,
      "outputs": []
    },
    {
      "cell_type": "code",
      "metadata": {
        "id": "faeMMtj8sblq",
        "colab_type": "code",
        "colab": {}
      },
      "source": [
        "clf = neighbors.KNeighborsClassifier()"
      ],
      "execution_count": 0,
      "outputs": []
    },
    {
      "cell_type": "code",
      "metadata": {
        "id": "9u1U5jf6t9-k",
        "colab_type": "code",
        "outputId": "e5beab39-5620-4561-d770-628bc9e6100f",
        "colab": {
          "base_uri": "https://localhost:8080/",
          "height": 34
        }
      },
      "source": [
        "clf.fit(X_train, y_train)\n",
        "accuracy = clf.score(X_test, y_test)\n",
        "print(accuracy)"
      ],
      "execution_count": 10,
      "outputs": [
        {
          "output_type": "stream",
          "text": [
            "0.9857142857142858\n"
          ],
          "name": "stdout"
        }
      ]
    },
    {
      "cell_type": "code",
      "metadata": {
        "id": "28gTPdRtuXUP",
        "colab_type": "code",
        "outputId": "80f26a85-56a0-447f-8e1b-274d8d1bbb7e",
        "colab": {
          "base_uri": "https://localhost:8080/",
          "height": 34
        }
      },
      "source": [
        "example_measures = np.array([[4,2,1,1,1,2,3,2,1], [4,2,1,2,2,2,3,2,1]])\n",
        "example_measures = example_measures.reshape(len(example_measures),-1)\n",
        "prediction = clf.predict(example_measures)\n",
        "print(prediction)"
      ],
      "execution_count": 11,
      "outputs": [
        {
          "output_type": "stream",
          "text": [
            "[2 2]\n"
          ],
          "name": "stdout"
        }
      ]
    },
    {
      "cell_type": "code",
      "metadata": {
        "id": "OoL6pL_twK-q",
        "colab_type": "code",
        "outputId": "2b6d9aed-b25a-4e20-83de-16ff461c370b",
        "colab": {
          "base_uri": "https://localhost:8080/",
          "height": 34
        }
      },
      "source": [
        "##Euclidean dist\n",
        "from math import sqrt\n",
        "\n",
        "plot1 = [1,3]\n",
        "plot2 = [2,5]\n",
        "\n",
        "euclidean_distance = sqrt( (plot1[0]-plot2[0])**2 +  (plot1[1]-plot2[1])**2 )\n",
        "print(euclidean_distance)"
      ],
      "execution_count": 12,
      "outputs": [
        {
          "output_type": "stream",
          "text": [
            "2.23606797749979\n"
          ],
          "name": "stdout"
        }
      ]
    },
    {
      "cell_type": "code",
      "metadata": {
        "id": "batjfc-QzrEb",
        "colab_type": "code",
        "colab": {}
      },
      "source": [
        "import matplotlib.pyplot as plt\n",
        "from matplotlib import style\n",
        "from collections import Counter\n",
        "import warnings\n",
        "import random\n",
        "style.use('fivethirtyeight')"
      ],
      "execution_count": 0,
      "outputs": []
    },
    {
      "cell_type": "code",
      "metadata": {
        "id": "9sYrar_1YF8C",
        "colab_type": "code",
        "colab": {}
      },
      "source": [
        "dataset = {'k': [[1,2],[2,3],[3,1]], 'r': [[6,5],[7,7],[8,6]]}\n",
        "new_feature = [5,7]"
      ],
      "execution_count": 0,
      "outputs": []
    },
    {
      "cell_type": "code",
      "metadata": {
        "id": "d_9qDwk-Yrfy",
        "colab_type": "code",
        "outputId": "3e69b270-94e4-4e15-b786-52fb28bc8290",
        "colab": {
          "base_uri": "https://localhost:8080/",
          "height": 282
        }
      },
      "source": [
        "[[plt.scatter(ii[0],ii[1], s=100, color=i) for ii in dataset[i]] for i in dataset]\n",
        "plt.scatter(new_feature[0], new_feature[1], s=100)\n",
        "plt.show()"
      ],
      "execution_count": 15,
      "outputs": [
        {
          "output_type": "display_data",
          "data": {
            "image/png": "[encoded data removed]",
            "text/plain": [
              "<Figure size 432x288 with 1 Axes>"
            ]
          },
          "metadata": {
            "tags": []
          }
        }
      ]
    },
    {
      "cell_type": "code",
      "metadata": {
        "id": "PSv3uKp8Zkys",
        "colab_type": "code",
        "colab": {}
      },
      "source": [
        "def k_nearest_neighbors(data, predict, k=3):\n",
        "  if len(data) >=k :\n",
        "    warnings.warn(\"K is set to a value less than total voting groups!\")\n",
        "  distances = []\n",
        "  for groups in data:\n",
        "    for features in data[groups]:\n",
        "      euclidean_distance = np.linalg.norm(np.array(features)-np.array(predict))\n",
        "      distances.append([euclidean_distance, groups])\n",
        "        \n",
        "  votes = [i[1] for i in sorted(distances)[:k]]\n",
        "  #print(Counter(votes).most_common(1))\n",
        "  vote_result = Counter(votes).most_common(1)[0][0]\n",
        "  return vote_result"
      ],
      "execution_count": 0,
      "outputs": []
    },
    {
      "cell_type": "code",
      "metadata": {
        "id": "RPXtwLuCehs5",
        "colab_type": "code",
        "outputId": "b6baac11-d4c6-4850-8c89-713f9e995b43",
        "colab": {
          "base_uri": "https://localhost:8080/",
          "height": 34
        }
      },
      "source": [
        "result = k_nearest_neighbors(dataset, new_feature, k=3)\n",
        "print(result)"
      ],
      "execution_count": 17,
      "outputs": [
        {
          "output_type": "stream",
          "text": [
            "r\n"
          ],
          "name": "stdout"
        }
      ]
    },
    {
      "cell_type": "code",
      "metadata": {
        "id": "aXBbFGeKep7k",
        "colab_type": "code",
        "colab": {}
      },
      "source": [
        "df = pd.read_csv('breast_cancer.data', sep=',', \n",
        "                  names=[\"id\", \"clump_thickness\", \"unif_cell_size\", \"unif_cell_shape\", \"marg_adhesion\", \"single_epith_cell_size\", \"bare_nuclei\", \"bland_chrom\", \"norm_nuclei\" \\\n",
        "                        , \"mitoses\", \"class\"])"
      ],
      "execution_count": 0,
      "outputs": []
    },
    {
      "cell_type": "code",
      "metadata": {
        "id": "t0stwEqUhAtZ",
        "colab_type": "code",
        "outputId": "7e45bd31-898a-4405-8d2b-72d1d4c0640b",
        "colab": {
          "base_uri": "https://localhost:8080/",
          "height": 54
        }
      },
      "source": [
        "df.replace('?', -99999, inplace=True)\n",
        "df.drop(['id'], 1, inplace=True)\n",
        "full_data = df.astype(float).values.tolist()\n",
        "print(full_data[:10])"
      ],
      "execution_count": 19,
      "outputs": [
        {
          "output_type": "stream",
          "text": [
            "[[5.0, 1.0, 1.0, 1.0, 2.0, 1.0, 3.0, 1.0, 1.0, 2.0], [5.0, 4.0, 4.0, 5.0, 7.0, 10.0, 3.0, 2.0, 1.0, 2.0], [3.0, 1.0, 1.0, 1.0, 2.0, 2.0, 3.0, 1.0, 1.0, 2.0], [6.0, 8.0, 8.0, 1.0, 3.0, 4.0, 3.0, 7.0, 1.0, 2.0], [4.0, 1.0, 1.0, 3.0, 2.0, 1.0, 3.0, 1.0, 1.0, 2.0], [8.0, 10.0, 10.0, 8.0, 7.0, 10.0, 9.0, 7.0, 1.0, 4.0], [1.0, 1.0, 1.0, 1.0, 2.0, 10.0, 3.0, 1.0, 1.0, 2.0], [2.0, 1.0, 2.0, 1.0, 2.0, 1.0, 3.0, 1.0, 1.0, 2.0], [2.0, 1.0, 1.0, 1.0, 2.0, 1.0, 1.0, 1.0, 5.0, 2.0], [4.0, 2.0, 1.0, 1.0, 2.0, 1.0, 2.0, 1.0, 1.0, 2.0]]\n"
          ],
          "name": "stdout"
        }
      ]
    },
    {
      "cell_type": "code",
      "metadata": {
        "id": "W-ZCWuTDiHXT",
        "colab_type": "code",
        "outputId": "8b02a707-38a6-4950-d6da-08c01a496866",
        "colab": {
          "base_uri": "https://localhost:8080/",
          "height": 71
        }
      },
      "source": [
        "random.shuffle(full_data)\n",
        "print(20*'#')\n",
        "print(full_data[:5])"
      ],
      "execution_count": 20,
      "outputs": [
        {
          "output_type": "stream",
          "text": [
            "####################\n",
            "[[4.0, 1.0, 1.0, 1.0, 2.0, 1.0, 2.0, 1.0, 1.0, 2.0], [5.0, 1.0, 1.0, 1.0, 2.0, 1.0, 1.0, 1.0, 1.0, 2.0], [4.0, 10.0, 8.0, 5.0, 4.0, 1.0, 10.0, 1.0, 1.0, 4.0], [10.0, 4.0, 4.0, 10.0, 6.0, 10.0, 5.0, 5.0, 1.0, 4.0], [10.0, 5.0, 5.0, 6.0, 3.0, 10.0, 7.0, 9.0, 2.0, 4.0]]\n"
          ],
          "name": "stdout"
        }
      ]
    },
    {
      "cell_type": "code",
      "metadata": {
        "id": "dt7SON5eib6G",
        "colab_type": "code",
        "colab": {}
      },
      "source": [
        "test_size = 0.2\n",
        "train_set = {2:[], 4:[]}\n",
        "test_set = {2:[], 4:[]}\n",
        "train_data = full_data[:-int(test_size*len(full_data))]\n",
        "test_data = full_data[-int(test_size*len(full_data)):]"
      ],
      "execution_count": 0,
      "outputs": []
    },
    {
      "cell_type": "code",
      "metadata": {
        "id": "NugzmzQ-jzTX",
        "colab_type": "code",
        "colab": {}
      },
      "source": [
        "for i in train_data:\n",
        "  train_set[i[-1]].append(i[:-1])\n",
        "\n",
        "for i in test_data:\n",
        "  test_set[i[-1]].append(i[:-1])  "
      ],
      "execution_count": 0,
      "outputs": []
    },
    {
      "cell_type": "code",
      "metadata": {
        "id": "Jh54DCLUkyMD",
        "colab_type": "code",
        "outputId": "e887f659-6d05-4542-a72f-024cf9755f87",
        "colab": {
          "base_uri": "https://localhost:8080/",
          "height": 34
        }
      },
      "source": [
        "correct = 0\n",
        "total = 0\n",
        "\n",
        "for group in test_set:\n",
        "  for data in test_set[group]:\n",
        "    vote = k_nearest_neighbors(train_set, data, k=5)\n",
        "    if group == vote:\n",
        "      correct += 1\n",
        "    total += 1\n",
        "print(\"Accuracy:\", correct/total)    "
      ],
      "execution_count": 23,
      "outputs": [
        {
          "output_type": "stream",
          "text": [
            "Accuracy: 0.9640287769784173\n"
          ],
          "name": "stdout"
        }
      ]
    },
    {
      "cell_type": "code",
      "metadata": {
        "id": "f8uh4zJ_lYyX",
        "colab_type": "code",
        "colab": {}
      },
      "source": [
        ""
      ],
      "execution_count": 0,
      "outputs": []
    }
  ]
}