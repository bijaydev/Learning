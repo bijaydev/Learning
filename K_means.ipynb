{
  "nbformat": 4,
  "nbformat_minor": 0,
  "metadata": {
    "colab": {
      "name": "K-means.ipynb",
      "provenance": [],
      "collapsed_sections": []
    },
    "kernelspec": {
      "name": "python3",
      "display_name": "Python 3"
    }
  },
  "cells": [
    {
      "cell_type": "code",
      "metadata": {
        "id": "gDGFsTfyMjIV",
        "colab_type": "code",
        "colab": {}
      },
      "source": [
        "import matplotlib.pyplot as plt\n",
        "from matplotlib import style\n",
        "style.use('ggplot')\n",
        "import numpy as np\n",
        "from sklearn.cluster import KMeans\n"
      ],
      "execution_count": 0,
      "outputs": []
    },
    {
      "cell_type": "code",
      "metadata": {
        "id": "gi9fxT2WNAj2",
        "colab_type": "code",
        "colab": {}
      },
      "source": [
        "X = np.array([[1,2],\n",
        "            [1.5,1.8],\n",
        "            [5,8],\n",
        "            [8,8],\n",
        "            [1,0.6],\n",
        "            [9,11]])"
      ],
      "execution_count": 0,
      "outputs": []
    },
    {
      "cell_type": "code",
      "metadata": {
        "id": "MwQonFRmNT7N",
        "colab_type": "code",
        "outputId": "b14c2674-992e-43d4-b818-d72d42539883",
        "colab": {
          "base_uri": "https://localhost:8080/",
          "height": 286
        }
      },
      "source": [
        "plt.scatter(X[:,0], X[:,1], s=150, linewidths=5)"
      ],
      "execution_count": 0,
      "outputs": [
        {
          "output_type": "execute_result",
          "data": {
            "text/plain": [
              "<matplotlib.collections.PathCollection at 0x7f2b3d8c6518>"
            ]
          },
          "metadata": {
            "tags": []
          },
          "execution_count": 22
        },
        {
          "output_type": "display_data",
          "data": {
            "image/png": "[encoded data removed]",
            "text/plain": [
              "<Figure size 432x288 with 1 Axes>"
            ]
          },
          "metadata": {
            "tags": []
          }
        }
      ]
    },
    {
      "cell_type": "code",
      "metadata": {
        "id": "Mmw32bCANwPK",
        "colab_type": "code",
        "colab": {}
      },
      "source": [
        "clf = KMeans(n_clusters=2)\n",
        "clf.fit(X)\n",
        "\n",
        "centroids = clf.cluster_centers_\n",
        "labels = clf.labels_\n",
        "\n",
        "colors = [\"g.\", \"r.\", \"b.\", \"k.\", \"c.\", \"o.\"]"
      ],
      "execution_count": 0,
      "outputs": []
    },
    {
      "cell_type": "code",
      "metadata": {
        "id": "J0VdUS38OowF",
        "colab_type": "code",
        "outputId": "17fe6c12-e674-45fd-ff0c-0b5fc8b41b23",
        "colab": {
          "base_uri": "https://localhost:8080/",
          "height": 269
        }
      },
      "source": [
        "for i in range(len(X)):\n",
        "  plt.plot(X[i][0], X[i][1], colors[labels[i]], markersize=10)\n",
        "  \n",
        "plt.scatter(centroids[:,0], centroids[:,1], marker=\"x\", s=150, linewidths=5)\n",
        "plt.show()"
      ],
      "execution_count": 0,
      "outputs": [
        {
          "output_type": "display_data",
          "data": {
            "image/png": "[encoded data removed]",
            "text/plain": [
              "<Figure size 432x288 with 1 Axes>"
            ]
          },
          "metadata": {
            "tags": []
          }
        }
      ]
    },
    {
      "cell_type": "code",
      "metadata": {
        "id": "DEZHFw07Pj5A",
        "colab_type": "code",
        "outputId": "ded5a7d3-1217-4fb1-a211-a1b7e0473762",
        "colab": {
          "base_uri": "https://localhost:8080/",
          "height": 69
        }
      },
      "source": [
        "!curl -o titanic.xls https://pythonprogramming.net/static/downloads/machine-learning-data/titanic.xls"
      ],
      "execution_count": 0,
      "outputs": [
        {
          "output_type": "stream",
          "text": [
            "  % Total    % Received % Xferd  Average Speed   Time    Time     Time  Current\n",
            "                                 Dload  Upload   Total   Spent    Left  Speed\n",
            "\r  0     0    0     0    0     0      0      0 --:--:-- --:--:-- --:--:--     0\r100  277k  100  277k    0     0  1079k      0 --:--:-- --:--:-- --:--:-- 1083k\n"
          ],
          "name": "stdout"
        }
      ]
    },
    {
      "cell_type": "code",
      "metadata": {
        "id": "SUm71CwwB5IO",
        "colab_type": "code",
        "outputId": "37433d15-73c7-4ac8-c5af-df109cd1153a",
        "colab": {
          "base_uri": "https://localhost:8080/",
          "height": 69
        }
      },
      "source": [
        "!ls -lrt"
      ],
      "execution_count": 0,
      "outputs": [
        {
          "output_type": "stream",
          "text": [
            "total 284\n",
            "drwxr-xr-x 1 root root   4096 Aug 27 16:17 sample_data\n",
            "-rw-r--r-- 1 root root 284160 Sep 19 16:28 titanic.xls\n"
          ],
          "name": "stdout"
        }
      ]
    },
    {
      "cell_type": "code",
      "metadata": {
        "id": "wnrpteSZB7bX",
        "colab_type": "code",
        "colab": {}
      },
      "source": [
        "import pandas as pd\n",
        "from sklearn import preprocessing\n",
        "from sklearn.model_selection import train_test_split"
      ],
      "execution_count": 0,
      "outputs": []
    },
    {
      "cell_type": "code",
      "metadata": {
        "id": "QpYfMyx_Ic6m",
        "colab_type": "code",
        "colab": {}
      },
      "source": [
        "df = pd.read_excel('titanic.xls')"
      ],
      "execution_count": 0,
      "outputs": []
    },
    {
      "cell_type": "code",
      "metadata": {
        "id": "WM1U87eoI1hu",
        "colab_type": "code",
        "outputId": "272984fb-1c06-4204-d414-5e26385f100c",
        "colab": {
          "base_uri": "https://localhost:8080/",
          "height": 156
        }
      },
      "source": [
        "print(df.head())"
      ],
      "execution_count": 0,
      "outputs": [
        {
          "output_type": "stream",
          "text": [
            "   pclass  survived  ...   body                        home.dest\n",
            "0       1         1  ...    NaN                     St Louis, MO\n",
            "1       1         1  ...    NaN  Montreal, PQ / Chesterville, ON\n",
            "2       1         0  ...    NaN  Montreal, PQ / Chesterville, ON\n",
            "3       1         0  ...  135.0  Montreal, PQ / Chesterville, ON\n",
            "4       1         0  ...    NaN  Montreal, PQ / Chesterville, ON\n",
            "\n",
            "[5 rows x 14 columns]\n"
          ],
          "name": "stdout"
        }
      ]
    },
    {
      "cell_type": "code",
      "metadata": {
        "id": "BlwlihT1KD3k",
        "colab_type": "code",
        "outputId": "39bd5127-12b9-44f3-ddd9-899674cf4f4b",
        "colab": {
          "base_uri": "https://localhost:8080/",
          "height": 89
        }
      },
      "source": [
        "df.drop(['body','name'], 1, inplace=True)\n",
        "df.convert_objects(convert_numeric=True)\n",
        "df.fillna(0,inplace=True)"
      ],
      "execution_count": 0,
      "outputs": [
        {
          "output_type": "stream",
          "text": [
            "/usr/local/lib/python3.6/dist-packages/ipykernel_launcher.py:2: FutureWarning: convert_objects is deprecated.  To re-infer data dtypes for object columns, use DataFrame.infer_objects()\n",
            "For all other conversions use the data-type specific converters pd.to_datetime, pd.to_timedelta and pd.to_numeric.\n",
            "  \n"
          ],
          "name": "stderr"
        }
      ]
    },
    {
      "cell_type": "code",
      "metadata": {
        "id": "9YjsIaASL7Yo",
        "colab_type": "code",
        "colab": {}
      },
      "source": [
        "def handle_non_numeric_data(df):\n",
        "  columns = df.columns.values\n",
        "  \n",
        "  for column in columns:\n",
        "    text_digit_vals = {}\n",
        "    def convert_to_int(val):\n",
        "      return text_digit_vals[val]\n",
        "    \n",
        "    if df[column].dtype != np.int64 and df[column].dtype != np.float64:\n",
        "      column_contents = df[column].values.tolist()\n",
        "      unique_elements = set(column_contents)\n",
        "      x = 0\n",
        "      for unique in unique_elements:\n",
        "        if unique not in text_digit_vals:\n",
        "          text_digit_vals[unique] = x\n",
        "          x+=1\n",
        "          \n",
        "      df[column] = list(map(convert_to_int, df[column]))\n",
        "  return df"
      ],
      "execution_count": 0,
      "outputs": []
    },
    {
      "cell_type": "code",
      "metadata": {
        "id": "Mv2HOD_uQjTR",
        "colab_type": "code",
        "outputId": "f1a85e80-9cc3-463e-c864-f0dfe2d7f45d",
        "colab": {
          "base_uri": "https://localhost:8080/",
          "height": 156
        }
      },
      "source": [
        "df = handle_non_numeric_data(df)\n",
        "print(df.head())"
      ],
      "execution_count": 0,
      "outputs": [
        {
          "output_type": "stream",
          "text": [
            "   pclass  survived  sex      age  ...  cabin  embarked  boat  home.dest\n",
            "0       1         1    1  29.0000  ...    144         1     1        173\n",
            "1       1         1    0   0.9167  ...     18         1    11        217\n",
            "2       1         0    1   2.0000  ...     18         1     0        217\n",
            "3       1         0    0  30.0000  ...     18         1     0        217\n",
            "4       1         0    1  25.0000  ...     18         1     0        217\n",
            "\n",
            "[5 rows x 12 columns]\n"
          ],
          "name": "stdout"
        }
      ]
    },
    {
      "cell_type": "code",
      "metadata": {
        "id": "JM-G5fonQtSa",
        "colab_type": "code",
        "outputId": "90b025bd-e6fe-47d1-9260-bdac22a17338",
        "colab": {
          "base_uri": "https://localhost:8080/",
          "height": 69
        }
      },
      "source": [
        "X = np.array(df.drop(['survived'],1).astype(float))\n",
        "X = preprocessing.scale(X)\n",
        "y = np.array(df['survived'])\n",
        "\n",
        "clf = KMeans(n_clusters=2)\n",
        "clf.fit(X)"
      ],
      "execution_count": 0,
      "outputs": [
        {
          "output_type": "execute_result",
          "data": {
            "text/plain": [
              "KMeans(algorithm='auto', copy_x=True, init='k-means++', max_iter=300,\n",
              "       n_clusters=2, n_init=10, n_jobs=None, precompute_distances='auto',\n",
              "       random_state=None, tol=0.0001, verbose=0)"
            ]
          },
          "metadata": {
            "tags": []
          },
          "execution_count": 33
        }
      ]
    },
    {
      "cell_type": "code",
      "metadata": {
        "id": "wFdUgsruRUjw",
        "colab_type": "code",
        "outputId": "0e0c1364-a06b-4a41-83b7-e684604f0175",
        "colab": {
          "base_uri": "https://localhost:8080/",
          "height": 34
        }
      },
      "source": [
        "correct = 0\n",
        "for i in range(len(X)):\n",
        "  predict_me = np.array(X[i].astype(float))\n",
        "  predict_me = predict_me.reshape(-1, len(predict_me))\n",
        "  prediction = clf.predict(predict_me)\n",
        "  if prediction[0] == y[i]:\n",
        "    correct += 1\n",
        "    \n",
        "print(\"accuracy: \", correct/len(X))"
      ],
      "execution_count": 0,
      "outputs": [
        {
          "output_type": "stream",
          "text": [
            "accuracy:  0.2582123758594347\n"
          ],
          "name": "stdout"
        }
      ]
    },
    {
      "cell_type": "code",
      "metadata": {
        "id": "faMNoN9XSOIT",
        "colab_type": "code",
        "outputId": "72d8dee6-9374-4c62-8172-1c4cfa0991b7",
        "colab": {
          "base_uri": "https://localhost:8080/",
          "height": 269
        }
      },
      "source": [
        "#custom KMeans\n",
        "X = np.array([[1,2],\n",
        "            [1.5,1.8],\n",
        "            [5,8],\n",
        "            [8,8],\n",
        "            [1,0.6],\n",
        "            [9,11]])\n",
        "plt.scatter(X[:,0], X[:,1], s=150, linewidths=5)\n",
        "colors = [\"g\", \"r\", \"b\", \"k\", \"c\", \"o\"]"
      ],
      "execution_count": 0,
      "outputs": [
        {
          "output_type": "display_data",
          "data": {
            "image/png": "[encoded data removed]",
            "text/plain": [
              "<Figure size 432x288 with 1 Axes>"
            ]
          },
          "metadata": {
            "tags": []
          }
        }
      ]
    },
    {
      "cell_type": "code",
      "metadata": {
        "id": "I2qnPiTMbPm8",
        "colab_type": "code",
        "colab": {}
      },
      "source": [
        "class K_Means:\n",
        "  def __init__(self, k=2, tol=0.001, max_iter=300):\n",
        "    self.k = k\n",
        "    self.tol = tol\n",
        "    self.max_iter = max_iter\n",
        "    \n",
        "  def fit(self, data):\n",
        "    self.centroids = {}\n",
        "    for i in range(self.k):\n",
        "      self.centroids[i] = data[i]\n",
        "      \n",
        "    for i in range(self.max_iter):\n",
        "      self.classifications = {}\n",
        "      \n",
        "      for i in range(self.k):\n",
        "        self.classifications[i] = []\n",
        "        \n",
        "      for featureset in data:\n",
        "        distances = [np.linalg.norm(featureset-self.centroids[centroid]) for centroid in self.centroids]\n",
        "        classification = distances.index(min(distances))\n",
        "        self.classifications[classification].append(featureset)\n",
        "          \n",
        "      prev_centroids = dict(self.centroids)\n",
        "        \n",
        "      for classification in self.classifications:\n",
        "        #pass\n",
        "        self.centroids[classification] = np.average(self.classifications[classification], axis=0)\n",
        "  \n",
        "  def predict(self, data):\n",
        "    distances = [np.linalg.norm(data-self.centroids[centroid]) for centroid in self.centroids]\n",
        "    classification = distances.index(min(distances))\n",
        "    return classification\n"
      ],
      "execution_count": 0,
      "outputs": []
    },
    {
      "cell_type": "code",
      "metadata": {
        "id": "0NX54PvzXPpQ",
        "colab_type": "code",
        "outputId": "27007f59-c33a-4e10-ec8c-76d0f2eb8331",
        "colab": {
          "base_uri": "https://localhost:8080/",
          "height": 269
        }
      },
      "source": [
        "clf = K_Means()\n",
        "clf.fit(X)\n",
        "\n",
        "for centroid in clf.centroids:\n",
        "  plt.scatter(clf.centroids[centroid][0], clf.centroids[centroid][1],\n",
        "             marker=\"o\", color=\"k\", s=150, linewidths=5)\n",
        "  \n",
        "for classification in clf.classifications:\n",
        "  color = colors[classification]\n",
        "  for featureset in clf.classifications[classification]:\n",
        "    plt.scatter(featureset[0], featureset[1], marker=\"x\", color=color, s=150, linewidths=5)\n",
        "\n",
        "plt.show()"
      ],
      "execution_count": 0,
      "outputs": [
        {
          "output_type": "display_data",
          "data": {
            "image/png": "[encoded data removed]",
            "text/plain": [
              "<Figure size 432x288 with 1 Axes>"
            ]
          },
          "metadata": {
            "tags": []
          }
        }
      ]
    },
    {
      "cell_type": "code",
      "metadata": {
        "id": "BfSZvd3RYu0N",
        "colab_type": "code",
        "colab": {}
      },
      "source": [
        ""
      ],
      "execution_count": 0,
      "outputs": []
    }
  ]
}