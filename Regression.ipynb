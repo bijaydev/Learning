{
  "nbformat": 4,
  "nbformat_minor": 0,
  "metadata": {
    "kernelspec": {
      "display_name": "Python 3",
      "language": "python",
      "name": "python3"
    },
    "language_info": {
      "codemirror_mode": {
        "name": "ipython",
        "version": 3
      },
      "file_extension": ".py",
      "mimetype": "text/x-python",
      "name": "python",
      "nbconvert_exporter": "python",
      "pygments_lexer": "ipython3",
      "version": "3.6.5"
    },
    "colab": {
      "name": "Regression.ipynb",
      "version": "0.3.2",
      "provenance": [],
      "collapsed_sections": []
    }
  },
  "cells": [
    {
      "cell_type": "code",
      "metadata": {
        "id": "bZC_FSKYctSC",
        "colab_type": "code",
        "outputId": "76e605e9-6366-4c82-870b-4063f451fb26",
        "colab": {
          "base_uri": "https://localhost:8080/",
          "height": 102
        }
      },
      "source": [
        "!pip install sklearn"
      ],
      "execution_count": 0,
      "outputs": [
        {
          "output_type": "stream",
          "text": [
            "Requirement already satisfied: sklearn in /usr/local/lib/python3.6/dist-packages (0.0)\n",
            "Requirement already satisfied: scikit-learn in /usr/local/lib/python3.6/dist-packages (from sklearn) (0.21.3)\n",
            "Requirement already satisfied: joblib>=0.11 in /usr/local/lib/python3.6/dist-packages (from scikit-learn->sklearn) (0.13.2)\n",
            "Requirement already satisfied: numpy>=1.11.0 in /usr/local/lib/python3.6/dist-packages (from scikit-learn->sklearn) (1.16.5)\n",
            "Requirement already satisfied: scipy>=0.17.0 in /usr/local/lib/python3.6/dist-packages (from scikit-learn->sklearn) (1.3.1)\n"
          ],
          "name": "stdout"
        }
      ]
    },
    {
      "cell_type": "code",
      "metadata": {
        "id": "Jl6OqMhCctSV",
        "colab_type": "code",
        "colab": {}
      },
      "source": [
        "#!python -m pip install --upgrade pip"
      ],
      "execution_count": 0,
      "outputs": []
    },
    {
      "cell_type": "code",
      "metadata": {
        "id": "yvgPic-MctSl",
        "colab_type": "code",
        "outputId": "954475e4-470b-413d-f640-c5b03e36e315",
        "colab": {
          "base_uri": "https://localhost:8080/",
          "height": 34
        }
      },
      "source": [
        "!pip install msgpack"
      ],
      "execution_count": 0,
      "outputs": [
        {
          "output_type": "stream",
          "text": [
            "Requirement already satisfied: msgpack in /usr/local/lib/python3.6/dist-packages (0.5.6)\n"
          ],
          "name": "stdout"
        }
      ]
    },
    {
      "cell_type": "code",
      "metadata": {
        "id": "UPJ_QYRIctSw",
        "colab_type": "code",
        "outputId": "90d31be6-1af7-4092-9b46-fd7a64364c36",
        "colab": {
          "base_uri": "https://localhost:8080/",
          "height": 751
        }
      },
      "source": [
        "!pip install quandl"
      ],
      "execution_count": 0,
      "outputs": [
        {
          "output_type": "stream",
          "text": [
            "Collecting quandl\n",
            "  Downloading https://files.pythonhosted.org/packages/12/64/6314547cb01fa75697ddba6d6d43a9f1d023c1730ffc6abf3db7a0c89222/Quandl-3.4.8-py2.py3-none-any.whl\n",
            "Collecting pyOpenSSL (from quandl)\n",
            "\u001b[?25l  Downloading https://files.pythonhosted.org/packages/01/c8/ceb170d81bd3941cbeb9940fc6cc2ef2ca4288d0ca8929ea4db5905d904d/pyOpenSSL-19.0.0-py2.py3-none-any.whl (53kB)\n",
            "\r\u001b[K     |██████▏                         | 10kB 21.1MB/s eta 0:00:01\r\u001b[K     |████████████▎                   | 20kB 27.6MB/s eta 0:00:01\r\u001b[K     |██████████████████▍             | 30kB 35.3MB/s eta 0:00:01\r\u001b[K     |████████████████████████▋       | 40kB 14.3MB/s eta 0:00:01\r\u001b[K     |██████████████████████████████▊ | 51kB 16.8MB/s eta 0:00:01\r\u001b[K     |████████████████████████████████| 61kB 15.0MB/s \n",
            "\u001b[?25hRequirement already satisfied: pyasn1 in /usr/local/lib/python3.6/dist-packages (from quandl) (0.4.7)\n",
            "Requirement already satisfied: pandas>=0.14 in /usr/local/lib/python3.6/dist-packages (from quandl) (0.24.2)\n",
            "Requirement already satisfied: numpy>=1.8 in /usr/local/lib/python3.6/dist-packages (from quandl) (1.16.5)\n",
            "Requirement already satisfied: python-dateutil in /usr/local/lib/python3.6/dist-packages (from quandl) (2.5.3)\n",
            "Collecting inflection>=0.3.1 (from quandl)\n",
            "  Downloading https://files.pythonhosted.org/packages/d5/35/a6eb45b4e2356fe688b21570864d4aa0d0a880ce387defe9c589112077f8/inflection-0.3.1.tar.gz\n",
            "Requirement already satisfied: requests>=2.7.0 in /usr/local/lib/python3.6/dist-packages (from quandl) (2.21.0)\n",
            "Requirement already satisfied: six in /usr/local/lib/python3.6/dist-packages (from quandl) (1.12.0)\n",
            "Collecting ndg-httpsclient (from quandl)\n",
            "  Downloading https://files.pythonhosted.org/packages/fb/67/c2f508c00ed2a6911541494504b7cac16fe0b0473912568df65fd1801132/ndg_httpsclient-0.5.1-py3-none-any.whl\n",
            "Collecting more-itertools<=5.0.0 (from quandl)\n",
            "\u001b[?25l  Downloading https://files.pythonhosted.org/packages/a4/a6/42f17d065bda1fac255db13afc94c93dbfb64393eae37c749b4cb0752fc7/more_itertools-5.0.0-py3-none-any.whl (52kB)\n",
            "\u001b[K     |████████████████████████████████| 61kB 28.7MB/s \n",
            "\u001b[?25hCollecting cryptography>=2.3 (from pyOpenSSL->quandl)\n",
            "\u001b[?25l  Downloading https://files.pythonhosted.org/packages/97/18/c6557f63a6abde34707196fb2cad1c6dc0dbff25a200d5044922496668a4/cryptography-2.7-cp34-abi3-manylinux1_x86_64.whl (2.3MB)\n",
            "\u001b[K     |████████████████████████████████| 2.3MB 22.3MB/s \n",
            "\u001b[?25hRequirement already satisfied: pytz>=2011k in /usr/local/lib/python3.6/dist-packages (from pandas>=0.14->quandl) (2018.9)\n",
            "Requirement already satisfied: urllib3<1.25,>=1.21.1 in /usr/local/lib/python3.6/dist-packages (from requests>=2.7.0->quandl) (1.24.3)\n",
            "Requirement already satisfied: chardet<3.1.0,>=3.0.2 in /usr/local/lib/python3.6/dist-packages (from requests>=2.7.0->quandl) (3.0.4)\n",
            "Requirement already satisfied: certifi>=2017.4.17 in /usr/local/lib/python3.6/dist-packages (from requests>=2.7.0->quandl) (2019.6.16)\n",
            "Requirement already satisfied: idna<2.9,>=2.5 in /usr/local/lib/python3.6/dist-packages (from requests>=2.7.0->quandl) (2.8)\n",
            "Collecting asn1crypto>=0.21.0 (from cryptography>=2.3->pyOpenSSL->quandl)\n",
            "\u001b[?25l  Downloading https://files.pythonhosted.org/packages/ea/cd/35485615f45f30a510576f1a56d1e0a7ad7bd8ab5ed7cdc600ef7cd06222/asn1crypto-0.24.0-py2.py3-none-any.whl (101kB)\n",
            "\u001b[K     |████████████████████████████████| 102kB 1.6MB/s \n",
            "\u001b[?25hRequirement already satisfied: cffi!=1.11.3,>=1.8 in /usr/local/lib/python3.6/dist-packages (from cryptography>=2.3->pyOpenSSL->quandl) (1.12.3)\n",
            "Requirement already satisfied: pycparser in /usr/local/lib/python3.6/dist-packages (from cffi!=1.11.3,>=1.8->cryptography>=2.3->pyOpenSSL->quandl) (2.19)\n",
            "Building wheels for collected packages: inflection\n",
            "  Building wheel for inflection (setup.py) ... \u001b[?25l\u001b[?25hdone\n",
            "  Created wheel for inflection: filename=inflection-0.3.1-cp36-none-any.whl size=6076 sha256=676d613d9298e478c8b198ecffe4da949f8cce9fdaa1c6adb12d3dee551f9d9e\n",
            "  Stored in directory: /root/.cache/pip/wheels/9f/5a/d3/6fc3bf6516d2a3eb7e18f9f28b472110b59325f3f258fe9211\n",
            "Successfully built inflection\n",
            "\u001b[31mERROR: datascience 0.10.6 has requirement folium==0.2.1, but you'll have folium 0.8.3 which is incompatible.\u001b[0m\n",
            "Installing collected packages: asn1crypto, cryptography, pyOpenSSL, inflection, ndg-httpsclient, more-itertools, quandl\n",
            "  Found existing installation: more-itertools 7.2.0\n",
            "    Uninstalling more-itertools-7.2.0:\n",
            "      Successfully uninstalled more-itertools-7.2.0\n",
            "Successfully installed asn1crypto-0.24.0 cryptography-2.7 inflection-0.3.1 more-itertools-5.0.0 ndg-httpsclient-0.5.1 pyOpenSSL-19.0.0 quandl-3.4.8\n"
          ],
          "name": "stdout"
        }
      ]
    },
    {
      "cell_type": "code",
      "metadata": {
        "id": "236acpkKctS9",
        "colab_type": "code",
        "colab": {}
      },
      "source": [
        "#!pip install pandas"
      ],
      "execution_count": 0,
      "outputs": []
    },
    {
      "cell_type": "code",
      "metadata": {
        "id": "N3ckK0D8ctTI",
        "colab_type": "code",
        "colab": {}
      },
      "source": [
        "import pandas as pd\n",
        "import quandl, datetime\n",
        "import matplotlib.pyplot as plt\n",
        "from matplotlib import style\n",
        "import math\n",
        "import pickle\n",
        "import numpy as np\n",
        "from sklearn import preprocessing, svm\n",
        "from sklearn.model_selection import train_test_split\n",
        "from sklearn.linear_model import LinearRegression"
      ],
      "execution_count": 0,
      "outputs": []
    },
    {
      "cell_type": "code",
      "metadata": {
        "id": "ZRDcvnn_iXFR",
        "colab_type": "code",
        "colab": {}
      },
      "source": [
        "style.use('ggplot')"
      ],
      "execution_count": 0,
      "outputs": []
    },
    {
      "cell_type": "code",
      "metadata": {
        "id": "O0BY7JgzctTQ",
        "colab_type": "code",
        "outputId": "39608a09-15e5-4208-8fd3-79dd288f65bb",
        "colab": {
          "base_uri": "https://localhost:8080/",
          "height": 170
        }
      },
      "source": [
        "df = quandl.get('WIKI/GOOGL')\n",
        "print(df.head())"
      ],
      "execution_count": 0,
      "outputs": [
        {
          "output_type": "stream",
          "text": [
            "              Open    High     Low  ...   Adj. Low  Adj. Close  Adj. Volume\n",
            "Date                                ...                                    \n",
            "2004-08-19  100.01  104.06   95.96  ...  48.128568   50.322842   44659000.0\n",
            "2004-08-20  101.01  109.08  100.50  ...  50.405597   54.322689   22834300.0\n",
            "2004-08-23  110.76  113.48  109.05  ...  54.693835   54.869377   18256100.0\n",
            "2004-08-24  111.24  111.60  103.57  ...  51.945350   52.597363   15247300.0\n",
            "2004-08-25  104.76  108.00  103.88  ...  52.100830   53.164113    9188600.0\n",
            "\n",
            "[5 rows x 12 columns]\n"
          ],
          "name": "stdout"
        }
      ]
    },
    {
      "cell_type": "code",
      "metadata": {
        "id": "1C2K5oztctTb",
        "colab_type": "code",
        "colab": {}
      },
      "source": [
        "df = df[['Adj. Open', 'Adj. High', 'Adj. Low', 'Adj. Close', 'Adj. Volume']]"
      ],
      "execution_count": 0,
      "outputs": []
    },
    {
      "cell_type": "code",
      "metadata": {
        "id": "80J9T94rctTq",
        "colab_type": "code",
        "colab": {}
      },
      "source": [
        "df['HL_PCT'] = (df['Adj. High'] - df['Adj. Close'])/ df['Adj. Close'] * 100.0"
      ],
      "execution_count": 0,
      "outputs": []
    },
    {
      "cell_type": "code",
      "metadata": {
        "id": "z3gcopSictT2",
        "colab_type": "code",
        "colab": {}
      },
      "source": [
        "df['PCT_Change'] = (df['Adj. Close'] - df['Adj. Open'])/ df['Adj. Open'] * 100.0"
      ],
      "execution_count": 0,
      "outputs": []
    },
    {
      "cell_type": "code",
      "metadata": {
        "id": "7mECNKC9ctUK",
        "colab_type": "code",
        "colab": {}
      },
      "source": [
        "df = df[['Adj. Close', 'HL_PCT', 'PCT_Change', 'Adj. Volume']]"
      ],
      "execution_count": 0,
      "outputs": []
    },
    {
      "cell_type": "code",
      "metadata": {
        "id": "6B-jnKqpctUg",
        "colab_type": "code",
        "outputId": "24cbbecd-5fdd-407f-98e4-47c450a54eeb",
        "colab": {
          "base_uri": "https://localhost:8080/",
          "height": 136
        }
      },
      "source": [
        "print(df.head())"
      ],
      "execution_count": 0,
      "outputs": [
        {
          "output_type": "stream",
          "text": [
            "            Adj. Close    HL_PCT  PCT_Change  Adj. Volume\n",
            "Date                                                     \n",
            "2004-08-19   50.322842  3.712563    0.324968   44659000.0\n",
            "2004-08-20   54.322689  0.710922    7.227007   22834300.0\n",
            "2004-08-23   54.869377  3.729433   -1.227880   18256100.0\n",
            "2004-08-24   52.597363  6.417469   -5.726357   15247300.0\n",
            "2004-08-25   53.164113  1.886792    1.183658    9188600.0\n"
          ],
          "name": "stdout"
        }
      ]
    },
    {
      "cell_type": "code",
      "metadata": {
        "id": "Q4WZ7rK8ctUt",
        "colab_type": "code",
        "colab": {}
      },
      "source": [
        "forecast_col = 'Adj. Close'"
      ],
      "execution_count": 0,
      "outputs": []
    },
    {
      "cell_type": "code",
      "metadata": {
        "id": "CNjenrjQctU3",
        "colab_type": "code",
        "colab": {}
      },
      "source": [
        "df.fillna(-99999, inplace= True) #replace NAN data"
      ],
      "execution_count": 0,
      "outputs": []
    },
    {
      "cell_type": "code",
      "metadata": {
        "id": "xBd0Gm4ictU_",
        "colab_type": "code",
        "outputId": "e946121a-77fc-4f88-9107-2fd346ecec8f",
        "colab": {
          "base_uri": "https://localhost:8080/",
          "height": 34
        }
      },
      "source": [
        "forecast_out = int(math.ceil(0.01 * len(df)))  # 10% of the dataframes\n",
        "print(forecast_out)"
      ],
      "execution_count": 0,
      "outputs": [
        {
          "output_type": "stream",
          "text": [
            "35\n"
          ],
          "name": "stdout"
        }
      ]
    },
    {
      "cell_type": "code",
      "metadata": {
        "id": "xkoj-NKDctVK",
        "colab_type": "code",
        "colab": {}
      },
      "source": [
        "df['label'] = df[forecast_col].shift(-forecast_out)\n"
      ],
      "execution_count": 0,
      "outputs": []
    },
    {
      "cell_type": "code",
      "metadata": {
        "id": "n90-_lLpctVV",
        "colab_type": "code",
        "outputId": "6e13a939-a26c-4963-8a45-80968752b5ba",
        "colab": {
          "base_uri": "https://localhost:8080/",
          "height": 136
        }
      },
      "source": [
        "print(df.head())"
      ],
      "execution_count": 0,
      "outputs": [
        {
          "output_type": "stream",
          "text": [
            "            Adj. Close    HL_PCT  PCT_Change  Adj. Volume      label\n",
            "Date                                                                \n",
            "2004-08-19   50.322842  3.712563    0.324968   44659000.0  69.078238\n",
            "2004-08-20   54.322689  0.710922    7.227007   22834300.0  67.839414\n",
            "2004-08-23   54.869377  3.729433   -1.227880   18256100.0  68.912727\n",
            "2004-08-24   52.597363  6.417469   -5.726357   15247300.0  70.668146\n",
            "2004-08-25   53.164113  1.886792    1.183658    9188600.0  71.219849\n"
          ],
          "name": "stdout"
        }
      ]
    },
    {
      "cell_type": "code",
      "metadata": {
        "id": "FSYu2VIpctVc",
        "colab_type": "code",
        "colab": {}
      },
      "source": [
        "X = np.array(df.drop(['label'], 1)) # df.drop returns a new data frame\n",
        "X = preprocessing.scale(X)\n",
        "X = X[:-forecast_out]\n",
        "X_lately = X[-forecast_out:]"
      ],
      "execution_count": 0,
      "outputs": []
    },
    {
      "cell_type": "code",
      "metadata": {
        "id": "0WNSV4C_gau8",
        "colab_type": "code",
        "colab": {}
      },
      "source": [
        "df.dropna(inplace = True)"
      ],
      "execution_count": 0,
      "outputs": []
    },
    {
      "cell_type": "code",
      "metadata": {
        "id": "lQ9lwHG8ctVw",
        "colab_type": "code",
        "colab": {}
      },
      "source": [
        "y = np.array(df['label'])\n"
      ],
      "execution_count": 0,
      "outputs": []
    },
    {
      "cell_type": "code",
      "metadata": {
        "id": "Me-pVLfoctV-",
        "colab_type": "code",
        "outputId": "0fd47c62-f0ef-47f8-9e8e-b1be5612f45c",
        "colab": {
          "base_uri": "https://localhost:8080/",
          "height": 34
        }
      },
      "source": [
        "print(len(X), len(y))"
      ],
      "execution_count": 0,
      "outputs": [
        {
          "output_type": "stream",
          "text": [
            "3389 3389\n"
          ],
          "name": "stdout"
        }
      ]
    },
    {
      "cell_type": "code",
      "metadata": {
        "id": "jxUJraA4ctWM",
        "colab_type": "code",
        "colab": {}
      },
      "source": [
        "X_train, X_test, y_train, y_test = train_test_split(X, y, test_size=0.2)"
      ],
      "execution_count": 0,
      "outputs": []
    },
    {
      "cell_type": "code",
      "metadata": {
        "id": "EmBb-pEEctWT",
        "colab_type": "code",
        "outputId": "b47946dc-be05-48ae-d824-7680c9c7d131",
        "colab": {
          "base_uri": "https://localhost:8080/",
          "height": 34
        }
      },
      "source": [
        "##Linear Regression\n",
        "clf = LinearRegression(n_jobs=-1) # -1 means max cpu support\n",
        "clf.fit(X_train, y_train)\n",
        "with open('linear_regression.pickle','wb') as fopen:\n",
        "  pickle.dump(clf,fopen)\n",
        "\n",
        "pickle_in = open('linear_regression.pickle','rb')\n",
        "clf = pickle.load(pickle_in)\n",
        "accuracy = clf.score(X_test, y_test)\n",
        "print(accuracy)"
      ],
      "execution_count": 0,
      "outputs": [
        {
          "output_type": "stream",
          "text": [
            "0.9768077385982561\n"
          ],
          "name": "stdout"
        }
      ]
    },
    {
      "cell_type": "code",
      "metadata": {
        "id": "GN7xplO3ctWc",
        "colab_type": "code",
        "outputId": "448905e7-d8c1-4524-fbd3-cf3cf89ab61d",
        "colab": {
          "base_uri": "https://localhost:8080/",
          "height": 88
        }
      },
      "source": [
        "###SVM\n",
        "clf2 = svm.SVR()\n",
        "clf2.fit(X_train, y_train)\n",
        "accuracy2 = clf2.score(X_test, y_test)\n",
        "print(accuracy2)"
      ],
      "execution_count": 0,
      "outputs": [
        {
          "output_type": "stream",
          "text": [
            "/usr/local/lib/python3.6/dist-packages/sklearn/svm/base.py:193: FutureWarning: The default value of gamma will change from 'auto' to 'scale' in version 0.22 to account better for unscaled features. Set gamma explicitly to 'auto' or 'scale' to avoid this warning.\n",
            "  \"avoid this warning.\", FutureWarning)\n"
          ],
          "name": "stderr"
        },
        {
          "output_type": "stream",
          "text": [
            "0.8093419355619996\n"
          ],
          "name": "stdout"
        }
      ]
    },
    {
      "cell_type": "code",
      "metadata": {
        "id": "APFsZPK_ctWs",
        "colab_type": "code",
        "outputId": "024cbe8e-ddb5-4476-e9ee-6265a0628571",
        "colab": {
          "base_uri": "https://localhost:8080/",
          "height": 136
        }
      },
      "source": [
        "forecast_set = clf.predict(X_lately)\n",
        "print(forecast_set, accuracy, forecast_out)"
      ],
      "execution_count": 0,
      "outputs": [
        {
          "output_type": "stream",
          "text": [
            "[1077.83669836 1092.27685317 1106.32605169 1100.5470751  1093.96929036\n",
            " 1091.45728976 1089.88452273 1086.76719819 1080.66558831 1076.35642384\n",
            " 1074.02368887 1094.56415647 1112.88730647 1116.59121616 1131.62410159\n",
            " 1135.5663376  1133.77771445 1131.61664115 1133.22809322 1152.47494577\n",
            " 1150.99239511 1160.80463381 1157.29568341 1165.28566863 1186.41539693\n",
            " 1197.98896825 1191.99826736 1204.0887548  1209.38097269 1207.9624104\n",
            " 1198.71264386 1203.92725144 1202.87640482 1137.83646263 1085.55737572] 0.9768077385982561 35\n"
          ],
          "name": "stdout"
        }
      ]
    },
    {
      "cell_type": "code",
      "metadata": {
        "id": "tJTJUOYIhq2M",
        "colab_type": "code",
        "colab": {}
      },
      "source": [
        "df['Forecast'] = np.nan"
      ],
      "execution_count": 0,
      "outputs": []
    },
    {
      "cell_type": "code",
      "metadata": {
        "id": "SIH1XnzFik-A",
        "colab_type": "code",
        "colab": {}
      },
      "source": [
        "last_date = df.iloc[-1].name\n",
        "last_unix = last_date.timestamp()\n",
        "one_day = 86400\n",
        "next_unix = last_unix + one_day"
      ],
      "execution_count": 0,
      "outputs": []
    },
    {
      "cell_type": "code",
      "metadata": {
        "id": "-kl2GYRgjwZC",
        "colab_type": "code",
        "outputId": "830eb36c-6c27-4c9f-ad1b-e208882cd0fa",
        "colab": {
          "base_uri": "https://localhost:8080/",
          "height": 276
        }
      },
      "source": [
        "for i in forecast_set:\n",
        "  next_date = datetime.datetime.fromtimestamp(next_unix)\n",
        "  next_unix+= one_day\n",
        "  df.loc[next_date] = [np.nan for _ in range(len(df.columns)-1)] + [i]\n",
        "\n",
        "df['Adj. Close'].plot()\n",
        "df['Forecast'].plot()\n",
        "plt.legend(loc=4)\n",
        "plt.xlabel('Date')\n",
        "plt.ylabel('Price')\n",
        "plt.show()"
      ],
      "execution_count": 0,
      "outputs": [
        {
          "output_type": "display_data",
          "data": {
            "image/png": "[encoded data removed]",
            "text/plain": [
              "<Figure size 432x288 with 1 Axes>"
            ]
          },
          "metadata": {
            "tags": []
          }
        }
      ]
    },
    {
      "cell_type": "code",
      "metadata": {
        "id": "dqgEF7VVkyXg",
        "colab_type": "code",
        "colab": {}
      },
      "source": [
        "#Regression from scratch\n",
        "\n",
        "import numpy as np\n",
        "from statistics import mean\n",
        "import matplotlib.pyplot as plt\n",
        "from matplotlib import style\n",
        "import random"
      ],
      "execution_count": 0,
      "outputs": []
    },
    {
      "cell_type": "code",
      "metadata": {
        "id": "zmDzdyKIiPDf",
        "colab_type": "code",
        "colab": {}
      },
      "source": [
        "style.use('fivethirtyeight')"
      ],
      "execution_count": 0,
      "outputs": []
    },
    {
      "cell_type": "code",
      "metadata": {
        "id": "BQLpIM86bcVv",
        "colab_type": "code",
        "colab": {}
      },
      "source": [
        "#xs = np.array([1,2,3,4,5,6], dtype = np.float64)\n",
        "#ys = np.array([5,4,6,5,6,7], dtype = np.float64)"
      ],
      "execution_count": 0,
      "outputs": []
    },
    {
      "cell_type": "code",
      "metadata": {
        "id": "ffHn15ACbmpn",
        "colab_type": "code",
        "outputId": "f5e11484-f371-416c-87af-7a93c6d90aa4",
        "colab": {
          "base_uri": "https://localhost:8080/",
          "height": 180
        }
      },
      "source": [
        "#plt.scatter(xs,ys)\n",
        "#plt.show()"
      ],
      "execution_count": 0,
      "outputs": [
        {
          "output_type": "error",
          "ename": "NameError",
          "evalue": "ignored",
          "traceback": [
            "\u001b[0;31m---------------------------------------------------------------------------\u001b[0m",
            "\u001b[0;31mNameError\u001b[0m                                 Traceback (most recent call last)",
            "\u001b[0;32m<ipython-input-33-10f1dd0ed98a>\u001b[0m in \u001b[0;36m<module>\u001b[0;34m()\u001b[0m\n\u001b[0;32m----> 1\u001b[0;31m \u001b[0mplt\u001b[0m\u001b[0;34m.\u001b[0m\u001b[0mscatter\u001b[0m\u001b[0;34m(\u001b[0m\u001b[0mxs\u001b[0m\u001b[0;34m,\u001b[0m\u001b[0mys\u001b[0m\u001b[0;34m)\u001b[0m\u001b[0;34m\u001b[0m\u001b[0;34m\u001b[0m\u001b[0m\n\u001b[0m\u001b[1;32m      2\u001b[0m \u001b[0mplt\u001b[0m\u001b[0;34m.\u001b[0m\u001b[0mshow\u001b[0m\u001b[0;34m(\u001b[0m\u001b[0;34m)\u001b[0m\u001b[0;34m\u001b[0m\u001b[0;34m\u001b[0m\u001b[0m\n",
            "\u001b[0;31mNameError\u001b[0m: name 'xs' is not defined"
          ]
        }
      ]
    },
    {
      "cell_type": "code",
      "metadata": {
        "id": "Ks5QxEyVa501",
        "colab_type": "code",
        "colab": {}
      },
      "source": [
        "def create_dataset(how_much, variance, step=2, correlation=False):\n",
        "  val = 1\n",
        "  ys = []\n",
        "  for i in range(how_much):\n",
        "    y = val + random.randrange(-variance, variance)\n",
        "    ys.append(y)\n",
        "    if correlation and correlation==\"pos\":\n",
        "      val+=step\n",
        "    elif correlation and correlation==\"neg\":\n",
        "      val-=step\n",
        "    xs = [i for i in range(len(ys))]\n",
        "  return np.array(xs, dtype=np.float64), np.array(ys, dtype=np.float64)"
      ],
      "execution_count": 0,
      "outputs": []
    },
    {
      "cell_type": "code",
      "metadata": {
        "id": "XKMSzMpubqKQ",
        "colab_type": "code",
        "colab": {}
      },
      "source": [
        "def best_fit_line_and_intercept(xs, ys):\n",
        "  m = ( ((mean(xs) * mean(ys)) - mean(xs*ys)) / \n",
        "          (mean(xs)**2 - mean(xs**2)) )\n",
        "  b = mean(ys) - m*mean(xs)\n",
        "  return m,b"
      ],
      "execution_count": 0,
      "outputs": []
    },
    {
      "cell_type": "code",
      "metadata": {
        "id": "EmXmWg4jHckI",
        "colab_type": "code",
        "colab": {}
      },
      "source": [
        "def squared_error(ys_orig, ys_line):\n",
        "  return sum((ys_line - ys_orig)**2)"
      ],
      "execution_count": 0,
      "outputs": []
    },
    {
      "cell_type": "code",
      "metadata": {
        "id": "3TTRCGFeIRxi",
        "colab_type": "code",
        "colab": {}
      },
      "source": [
        "def coefficient_of_determination(ys_orig, ys_line):\n",
        "  y_mean_line = [mean(ys_orig) for y in ys_orig]\n",
        "  squared_error_regr = squared_error(ys_orig, ys_line)\n",
        "  squared_error_y_mean = squared_error(ys_orig, y_mean_line)\n",
        "  return 1-(squared_error_regr/squared_error_y_mean)"
      ],
      "execution_count": 0,
      "outputs": []
    },
    {
      "cell_type": "code",
      "metadata": {
        "id": "vK7Z_s6Wc1G6",
        "colab_type": "code",
        "colab": {}
      },
      "source": [
        "xs, ys = create_dataset(40, 10, 2, correlation=\"pos\")"
      ],
      "execution_count": 0,
      "outputs": []
    },
    {
      "cell_type": "code",
      "metadata": {
        "id": "QorwUM3YfUTM",
        "colab_type": "code",
        "outputId": "d4c461f3-a0a5-4b9a-f953-44cc15783001",
        "colab": {
          "base_uri": "https://localhost:8080/",
          "height": 34
        }
      },
      "source": [
        "m,b = best_fit_line_and_intercept(xs, ys)\n",
        "print(m, b)"
      ],
      "execution_count": 0,
      "outputs": [
        {
          "output_type": "stream",
          "text": [
            "2.0875234521575976 -0.9817073170731518\n"
          ],
          "name": "stdout"
        }
      ]
    },
    {
      "cell_type": "code",
      "metadata": {
        "id": "TNAbkec6fa76",
        "colab_type": "code",
        "colab": {}
      },
      "source": [
        "regression_line = [(m*x)+b for x in xs]"
      ],
      "execution_count": 0,
      "outputs": []
    },
    {
      "cell_type": "code",
      "metadata": {
        "id": "QAlb-R1Gjkuq",
        "colab_type": "code",
        "colab": {}
      },
      "source": [
        "predict_x = 8\n",
        "predict_y = (m*predict_x) + b"
      ],
      "execution_count": 0,
      "outputs": []
    },
    {
      "cell_type": "code",
      "metadata": {
        "id": "nA5QvXrhJIS6",
        "colab_type": "code",
        "outputId": "0f82cc0e-d977-4a30-90c5-677861645551",
        "colab": {
          "base_uri": "https://localhost:8080/",
          "height": 34
        }
      },
      "source": [
        "r_squared = coefficient_of_determination(ys, regression_line)\n",
        "print(r_squared)"
      ],
      "execution_count": 0,
      "outputs": [
        {
          "output_type": "stream",
          "text": [
            "0.9403584291251922\n"
          ],
          "name": "stdout"
        }
      ]
    },
    {
      "cell_type": "code",
      "metadata": {
        "id": "LmPhWCP6idEz",
        "colab_type": "code",
        "outputId": "cf8cb187-3480-412f-a349-c9bbbf7bf57c",
        "colab": {
          "base_uri": "https://localhost:8080/",
          "height": 282
        }
      },
      "source": [
        "plt.scatter(xs,ys)\n",
        "plt.scatter(predict_x, predict_y, s=100, color='g')\n",
        "plt.plot(xs, regression_line)\n",
        "plt.show()"
      ],
      "execution_count": 0,
      "outputs": [
        {
          "output_type": "display_data",
          "data": {
            "image/png": "[encoded data removed]",
            "text/plain": [
              "<Figure size 432x288 with 1 Axes>"
            ]
          },
          "metadata": {
            "tags": []
          }
        }
      ]
    },
    {
      "cell_type": "code",
      "metadata": {
        "id": "YSZa7M72ilvT",
        "colab_type": "code",
        "colab": {}
      },
      "source": [
        "#R^2 or Coefficient of determination gives the accuracy of the model. \n",
        "#Squared error is used to calculate the R^2\n",
        "# Regression line is also called y^ (y-hat line)\n",
        "# R squared error = 1 - (square_error(y-hat)/ square_error(mean(ys)))"
      ],
      "execution_count": 0,
      "outputs": []
    },
    {
      "cell_type": "code",
      "metadata": {
        "id": "pDghxwfXi1Oj",
        "colab_type": "code",
        "colab": {}
      },
      "source": [
        ""
      ],
      "execution_count": 0,
      "outputs": []
    }
  ]
}